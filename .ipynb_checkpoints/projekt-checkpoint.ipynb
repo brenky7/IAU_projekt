{
 "cells": [
  {
   "cell_type": "code",
   "execution_count": 1,
   "id": "d357a758-0758-4d37-ae67-2f9a68651123",
   "metadata": {},
   "outputs": [],
   "source": [
    "%matplotlib inline\n",
    "import pandas as pd\n",
    "import numpy as np\n",
    "import matplotlib.pyplot as plt\n",
    "import seaborn"
   ]
  },
  {
   "cell_type": "code",
   "execution_count": 2,
   "id": "8919bb49-3edb-4958-aee6-463813c8b5cd",
   "metadata": {},
   "outputs": [],
   "source": [
    "# načítanie súborov\n",
    "connections = pd.read_csv(\"101/connections.csv\", delimiter=\"\\t\")\n",
    "devices = pd.read_csv(\"101/devices.csv\", delimiter=\"\\t\")\n",
    "processes = pd. read_csv(\"101/processes.csv\", delimiter=\"\\t\")\n",
    "profiles = pd. read_csv(\"101/profiles.csv\", delimiter=\"\\t\")"
   ]
  },
  {
   "cell_type": "markdown",
   "id": "6c1720a8-4cb3-4432-b4ca-aa40f35f188a",
   "metadata": {},
   "source": [
    "# 1.1 Základný opis dát spolu s ich charakteristikami"
   ]
  },
  {
   "cell_type": "markdown",
   "id": "de6a33ea-ee8a-41c6-bfb5-b479b5a62702",
   "metadata": {},
   "source": [
    "K dispozícií máme 4 súbory vo formáte .csv:\n",
    "* devices.csv\n",
    "* connections.csv\n",
    "* processes.csv\n",
    "* profiles.csv"
   ]
  },
  {
   "cell_type": "markdown",
   "id": "b31883d8-1bb2-40a3-a96c-326179b03381",
   "metadata": {},
   "source": [
    "## A"
   ]
  },
  {
   "cell_type": "markdown",
   "id": "ea9fd0e4-0f8f-4934-8d50-521b7090ca4b",
   "metadata": {},
   "source": [
    "Analýza štruktúr dát ako súbory (štruktúry a vzťahy, počet, typy, …), záznamy\n",
    "(štruktúry, počet záznamov, počet atribútov, typy, …)"
   ]
  },
  {
   "cell_type": "markdown",
   "id": "5d033a1b-ae6a-4d4f-98ae-48d864515282",
   "metadata": {},
   "source": [
    "### Connections"
   ]
  },
  {
   "cell_type": "code",
   "execution_count": 3,
   "id": "63595ed6-d5c6-44b5-baa4-6acf95eaeeba",
   "metadata": {},
   "outputs": [
    {
     "data": {
      "text/html": [
       "<div>\n",
       "<style scoped>\n",
       "    .dataframe tbody tr th:only-of-type {\n",
       "        vertical-align: middle;\n",
       "    }\n",
       "\n",
       "    .dataframe tbody tr th {\n",
       "        vertical-align: top;\n",
       "    }\n",
       "\n",
       "    .dataframe thead th {\n",
       "        text-align: right;\n",
       "    }\n",
       "</style>\n",
       "<table border=\"1\" class=\"dataframe\">\n",
       "  <thead>\n",
       "    <tr style=\"text-align: right;\">\n",
       "      <th></th>\n",
       "      <th>ts</th>\n",
       "      <th>imei</th>\n",
       "      <th>mwra</th>\n",
       "      <th>c.dogalize</th>\n",
       "      <th>c.android.gm</th>\n",
       "      <th>c.android.chrome</th>\n",
       "      <th>c.android.youtube</th>\n",
       "      <th>c.katana</th>\n",
       "      <th>c.updateassist</th>\n",
       "      <th>c.UCMobile.x86</th>\n",
       "      <th>c.android.vending</th>\n",
       "      <th>c.raider</th>\n",
       "      <th>c.UCMobile.intl</th>\n",
       "    </tr>\n",
       "  </thead>\n",
       "  <tbody>\n",
       "    <tr>\n",
       "      <th>0</th>\n",
       "      <td>2018-05-05 10:00:00</td>\n",
       "      <td>3590433799317661966</td>\n",
       "      <td>1.0</td>\n",
       "      <td>9.03970</td>\n",
       "      <td>14.35315</td>\n",
       "      <td>13.76020</td>\n",
       "      <td>11.12559</td>\n",
       "      <td>6.73850</td>\n",
       "      <td>66.91554</td>\n",
       "      <td>54.28226</td>\n",
       "      <td>16.75773</td>\n",
       "      <td>4.64834</td>\n",
       "      <td>30.67838</td>\n",
       "    </tr>\n",
       "    <tr>\n",
       "      <th>1</th>\n",
       "      <td>2018-05-05 10:01:00</td>\n",
       "      <td>3590433799317661073</td>\n",
       "      <td>1.0</td>\n",
       "      <td>9.41478</td>\n",
       "      <td>7.51650</td>\n",
       "      <td>12.31292</td>\n",
       "      <td>12.55000</td>\n",
       "      <td>7.19936</td>\n",
       "      <td>32.67809</td>\n",
       "      <td>64.59178</td>\n",
       "      <td>29.13667</td>\n",
       "      <td>28.68688</td>\n",
       "      <td>59.46351</td>\n",
       "    </tr>\n",
       "    <tr>\n",
       "      <th>2</th>\n",
       "      <td>2018-05-05 10:02:00</td>\n",
       "      <td>359043379931766445</td>\n",
       "      <td>0.0</td>\n",
       "      <td>13.25806</td>\n",
       "      <td>7.23549</td>\n",
       "      <td>10.30754</td>\n",
       "      <td>7.77630</td>\n",
       "      <td>13.17780</td>\n",
       "      <td>55.29738</td>\n",
       "      <td>36.98063</td>\n",
       "      <td>65.83367</td>\n",
       "      <td>73.22975</td>\n",
       "      <td>37.54590</td>\n",
       "    </tr>\n",
       "    <tr>\n",
       "      <th>3</th>\n",
       "      <td>2018-05-05 10:03:00</td>\n",
       "      <td>3590433799317662014</td>\n",
       "      <td>0.0</td>\n",
       "      <td>11.41695</td>\n",
       "      <td>8.09047</td>\n",
       "      <td>8.96150</td>\n",
       "      <td>9.97905</td>\n",
       "      <td>11.82898</td>\n",
       "      <td>38.55251</td>\n",
       "      <td>46.93124</td>\n",
       "      <td>58.06052</td>\n",
       "      <td>15.85001</td>\n",
       "      <td>36.53092</td>\n",
       "    </tr>\n",
       "    <tr>\n",
       "      <th>4</th>\n",
       "      <td>2018-05-05 10:04:00</td>\n",
       "      <td>3590433799317661651</td>\n",
       "      <td>0.0</td>\n",
       "      <td>12.47250</td>\n",
       "      <td>9.28802</td>\n",
       "      <td>8.48795</td>\n",
       "      <td>8.60786</td>\n",
       "      <td>11.82816</td>\n",
       "      <td>43.46316</td>\n",
       "      <td>43.94921</td>\n",
       "      <td>47.15770</td>\n",
       "      <td>39.61245</td>\n",
       "      <td>38.15171</td>\n",
       "    </tr>\n",
       "  </tbody>\n",
       "</table>\n",
       "</div>"
      ],
      "text/plain": [
       "                    ts                 imei  mwra  c.dogalize  c.android.gm  \\\n",
       "0  2018-05-05 10:00:00  3590433799317661966   1.0     9.03970      14.35315   \n",
       "1  2018-05-05 10:01:00  3590433799317661073   1.0     9.41478       7.51650   \n",
       "2  2018-05-05 10:02:00   359043379931766445   0.0    13.25806       7.23549   \n",
       "3  2018-05-05 10:03:00  3590433799317662014   0.0    11.41695       8.09047   \n",
       "4  2018-05-05 10:04:00  3590433799317661651   0.0    12.47250       9.28802   \n",
       "\n",
       "   c.android.chrome  c.android.youtube  c.katana  c.updateassist  \\\n",
       "0          13.76020           11.12559   6.73850        66.91554   \n",
       "1          12.31292           12.55000   7.19936        32.67809   \n",
       "2          10.30754            7.77630  13.17780        55.29738   \n",
       "3           8.96150            9.97905  11.82898        38.55251   \n",
       "4           8.48795            8.60786  11.82816        43.46316   \n",
       "\n",
       "   c.UCMobile.x86  c.android.vending  c.raider  c.UCMobile.intl  \n",
       "0        54.28226           16.75773   4.64834         30.67838  \n",
       "1        64.59178           29.13667  28.68688         59.46351  \n",
       "2        36.98063           65.83367  73.22975         37.54590  \n",
       "3        46.93124           58.06052  15.85001         36.53092  \n",
       "4        43.94921           47.15770  39.61245         38.15171  "
      ]
     },
     "execution_count": 3,
     "metadata": {},
     "output_type": "execute_result"
    }
   ],
   "source": [
    "connections.head()"
   ]
  },
  {
   "cell_type": "code",
   "execution_count": 4,
   "id": "0652b15f-2136-40c0-83cc-f9783bf97991",
   "metadata": {},
   "outputs": [
    {
     "data": {
      "text/plain": [
       "(15082, 13)"
      ]
     },
     "execution_count": 4,
     "metadata": {},
     "output_type": "execute_result"
    }
   ],
   "source": [
    "connections.shape"
   ]
  },
  {
   "cell_type": "code",
   "execution_count": 5,
   "id": "005657bf-dc15-4d39-9787-fad57295f47a",
   "metadata": {},
   "outputs": [
    {
     "data": {
      "text/plain": [
       "Index(['ts', 'imei', 'mwra', 'c.dogalize', 'c.android.gm', 'c.android.chrome',\n",
       "       'c.android.youtube', 'c.katana', 'c.updateassist', 'c.UCMobile.x86',\n",
       "       'c.android.vending', 'c.raider', 'c.UCMobile.intl'],\n",
       "      dtype='object')"
      ]
     },
     "execution_count": 5,
     "metadata": {},
     "output_type": "execute_result"
    }
   ],
   "source": [
    "connections.columns"
   ]
  },
  {
   "cell_type": "code",
   "execution_count": 6,
   "id": "005072ba-0ce2-44cb-b8cf-949a1c99445e",
   "metadata": {},
   "outputs": [
    {
     "data": {
      "text/plain": [
       "ts                    object\n",
       "imei                   int64\n",
       "mwra                 float64\n",
       "c.dogalize           float64\n",
       "c.android.gm         float64\n",
       "c.android.chrome     float64\n",
       "c.android.youtube    float64\n",
       "c.katana             float64\n",
       "c.updateassist       float64\n",
       "c.UCMobile.x86       float64\n",
       "c.android.vending    float64\n",
       "c.raider             float64\n",
       "c.UCMobile.intl      float64\n",
       "dtype: object"
      ]
     },
     "execution_count": 6,
     "metadata": {},
     "output_type": "execute_result"
    }
   ],
   "source": [
    "connections.dtypes"
   ]
  },
  {
   "cell_type": "code",
   "execution_count": 7,
   "id": "acb53dfd-5404-49ee-a0a2-d86067efe3c6",
   "metadata": {},
   "outputs": [
    {
     "data": {
      "text/plain": [
       "ts                   0\n",
       "imei                 0\n",
       "mwra                 0\n",
       "c.dogalize           0\n",
       "c.android.gm         0\n",
       "c.android.chrome     0\n",
       "c.android.youtube    0\n",
       "c.katana             0\n",
       "c.updateassist       0\n",
       "c.UCMobile.x86       0\n",
       "c.android.vending    0\n",
       "c.raider             0\n",
       "c.UCMobile.intl      0\n",
       "dtype: int64"
      ]
     },
     "execution_count": 7,
     "metadata": {},
     "output_type": "execute_result"
    }
   ],
   "source": [
    "connections.isnull().sum()"
   ]
  },
  {
   "cell_type": "code",
   "execution_count": 8,
   "id": "96e02466-6be9-489a-9a06-22d18750900d",
   "metadata": {},
   "outputs": [
    {
     "data": {
      "text/plain": [
       "0"
      ]
     },
     "execution_count": 8,
     "metadata": {},
     "output_type": "execute_result"
    }
   ],
   "source": [
    "connections.shape[0] - connections.dropna().shape[0]"
   ]
  },
  {
   "cell_type": "code",
   "execution_count": 9,
   "id": "779936bf-3c4a-4ca9-be7f-cd04f1cc0d92",
   "metadata": {},
   "outputs": [
    {
     "name": "stdout",
     "output_type": "stream",
     "text": [
      "<class 'pandas.core.frame.DataFrame'>\n",
      "RangeIndex: 15082 entries, 0 to 15081\n",
      "Data columns (total 13 columns):\n",
      " #   Column             Non-Null Count  Dtype  \n",
      "---  ------             --------------  -----  \n",
      " 0   ts                 15082 non-null  object \n",
      " 1   imei               15082 non-null  int64  \n",
      " 2   mwra               15082 non-null  float64\n",
      " 3   c.dogalize         15082 non-null  float64\n",
      " 4   c.android.gm       15082 non-null  float64\n",
      " 5   c.android.chrome   15082 non-null  float64\n",
      " 6   c.android.youtube  15082 non-null  float64\n",
      " 7   c.katana           15082 non-null  float64\n",
      " 8   c.updateassist     15082 non-null  float64\n",
      " 9   c.UCMobile.x86     15082 non-null  float64\n",
      " 10  c.android.vending  15082 non-null  float64\n",
      " 11  c.raider           15082 non-null  float64\n",
      " 12  c.UCMobile.intl    15082 non-null  float64\n",
      "dtypes: float64(11), int64(1), object(1)\n",
      "memory usage: 1.5+ MB\n"
     ]
    }
   ],
   "source": [
    "connections.info()"
   ]
  },
  {
   "cell_type": "markdown",
   "id": "b79fedbf-520a-43e9-bbb3-4327c84318d0",
   "metadata": {},
   "source": [
    "### Devices"
   ]
  },
  {
   "cell_type": "code",
   "execution_count": 10,
   "id": "1653d283-a26e-4f4a-9439-983217e33347",
   "metadata": {},
   "outputs": [
    {
     "data": {
      "text/html": [
       "<div>\n",
       "<style scoped>\n",
       "    .dataframe tbody tr th:only-of-type {\n",
       "        vertical-align: middle;\n",
       "    }\n",
       "\n",
       "    .dataframe tbody tr th {\n",
       "        vertical-align: top;\n",
       "    }\n",
       "\n",
       "    .dataframe thead th {\n",
       "        text-align: right;\n",
       "    }\n",
       "</style>\n",
       "<table border=\"1\" class=\"dataframe\">\n",
       "  <thead>\n",
       "    <tr style=\"text-align: right;\">\n",
       "      <th></th>\n",
       "      <th>latitude</th>\n",
       "      <th>longitude</th>\n",
       "      <th>store_name</th>\n",
       "      <th>code</th>\n",
       "      <th>location</th>\n",
       "      <th>imei</th>\n",
       "    </tr>\n",
       "  </thead>\n",
       "  <tbody>\n",
       "    <tr>\n",
       "      <th>0</th>\n",
       "      <td>37.73222</td>\n",
       "      <td>115.70111</td>\n",
       "      <td>Hengshui</td>\n",
       "      <td>CN</td>\n",
       "      <td>Asia/Shanghai</td>\n",
       "      <td>359043379931766668</td>\n",
       "    </tr>\n",
       "    <tr>\n",
       "      <th>1</th>\n",
       "      <td>36.46917</td>\n",
       "      <td>10.78222</td>\n",
       "      <td>Beni Khiar</td>\n",
       "      <td>TN</td>\n",
       "      <td>Africa/Tunis</td>\n",
       "      <td>3590433799317661669</td>\n",
       "    </tr>\n",
       "    <tr>\n",
       "      <th>2</th>\n",
       "      <td>43.61092</td>\n",
       "      <td>3.87723</td>\n",
       "      <td>Montpellier</td>\n",
       "      <td>FR</td>\n",
       "      <td>Europe/Paris</td>\n",
       "      <td>359043379931766767</td>\n",
       "    </tr>\n",
       "    <tr>\n",
       "      <th>3</th>\n",
       "      <td>20.88953</td>\n",
       "      <td>-156.47432</td>\n",
       "      <td>Kahului</td>\n",
       "      <td>US</td>\n",
       "      <td>Pacific/Honolulu</td>\n",
       "      <td>359043379931766502</td>\n",
       "    </tr>\n",
       "    <tr>\n",
       "      <th>4</th>\n",
       "      <td>42.81900</td>\n",
       "      <td>47.11920</td>\n",
       "      <td>Buynaksk</td>\n",
       "      <td>RU</td>\n",
       "      <td>Europe/Moscow</td>\n",
       "      <td>3590433799317661370</td>\n",
       "    </tr>\n",
       "  </tbody>\n",
       "</table>\n",
       "</div>"
      ],
      "text/plain": [
       "   latitude  longitude   store_name code          location  \\\n",
       "0  37.73222  115.70111     Hengshui   CN     Asia/Shanghai   \n",
       "1  36.46917   10.78222   Beni Khiar   TN      Africa/Tunis   \n",
       "2  43.61092    3.87723  Montpellier   FR      Europe/Paris   \n",
       "3  20.88953 -156.47432      Kahului   US  Pacific/Honolulu   \n",
       "4  42.81900   47.11920     Buynaksk   RU     Europe/Moscow   \n",
       "\n",
       "                  imei  \n",
       "0   359043379931766668  \n",
       "1  3590433799317661669  \n",
       "2   359043379931766767  \n",
       "3   359043379931766502  \n",
       "4  3590433799317661370  "
      ]
     },
     "execution_count": 10,
     "metadata": {},
     "output_type": "execute_result"
    }
   ],
   "source": [
    "devices.head()"
   ]
  },
  {
   "cell_type": "code",
   "execution_count": 11,
   "id": "08b0d3aa-81b0-4c12-a79e-994d73fa7923",
   "metadata": {},
   "outputs": [
    {
     "data": {
      "text/plain": [
       "(2903, 6)"
      ]
     },
     "execution_count": 11,
     "metadata": {},
     "output_type": "execute_result"
    }
   ],
   "source": [
    "devices.shape"
   ]
  },
  {
   "cell_type": "code",
   "execution_count": 12,
   "id": "94d98b07-e03f-49c5-89f8-99cac4a01b7b",
   "metadata": {},
   "outputs": [
    {
     "data": {
      "text/plain": [
       "Index(['latitude', 'longitude', 'store_name', 'code', 'location', 'imei'], dtype='object')"
      ]
     },
     "execution_count": 12,
     "metadata": {},
     "output_type": "execute_result"
    }
   ],
   "source": [
    "devices.columns"
   ]
  },
  {
   "cell_type": "code",
   "execution_count": 13,
   "id": "cc777a12-fe7f-497f-8ec0-1679c3d2dc80",
   "metadata": {},
   "outputs": [
    {
     "data": {
      "text/plain": [
       "latitude      float64\n",
       "longitude     float64\n",
       "store_name     object\n",
       "code           object\n",
       "location       object\n",
       "imei            int64\n",
       "dtype: object"
      ]
     },
     "execution_count": 13,
     "metadata": {},
     "output_type": "execute_result"
    }
   ],
   "source": [
    "devices.dtypes"
   ]
  },
  {
   "cell_type": "code",
   "execution_count": 14,
   "id": "622a68cf-7f06-4fba-91d2-033344956f68",
   "metadata": {},
   "outputs": [
    {
     "data": {
      "text/plain": [
       "latitude      0\n",
       "longitude     0\n",
       "store_name    0\n",
       "code          4\n",
       "location      0\n",
       "imei          0\n",
       "dtype: int64"
      ]
     },
     "execution_count": 14,
     "metadata": {},
     "output_type": "execute_result"
    }
   ],
   "source": [
    "devices.isnull().sum()"
   ]
  },
  {
   "cell_type": "code",
   "execution_count": 15,
   "id": "d5082d59-5739-4fa3-b367-becf2f536a14",
   "metadata": {},
   "outputs": [
    {
     "data": {
      "text/plain": [
       "4"
      ]
     },
     "execution_count": 15,
     "metadata": {},
     "output_type": "execute_result"
    }
   ],
   "source": [
    "devices.shape[0] - devices.dropna().shape[0]"
   ]
  },
  {
   "cell_type": "code",
   "execution_count": 16,
   "id": "d5dd60b0-df46-4d71-9d14-5f62c9ee3ffd",
   "metadata": {},
   "outputs": [
    {
     "name": "stdout",
     "output_type": "stream",
     "text": [
      "<class 'pandas.core.frame.DataFrame'>\n",
      "RangeIndex: 2903 entries, 0 to 2902\n",
      "Data columns (total 6 columns):\n",
      " #   Column      Non-Null Count  Dtype  \n",
      "---  ------      --------------  -----  \n",
      " 0   latitude    2903 non-null   float64\n",
      " 1   longitude   2903 non-null   float64\n",
      " 2   store_name  2903 non-null   object \n",
      " 3   code        2899 non-null   object \n",
      " 4   location    2903 non-null   object \n",
      " 5   imei        2903 non-null   int64  \n",
      "dtypes: float64(2), int64(1), object(3)\n",
      "memory usage: 136.2+ KB\n"
     ]
    }
   ],
   "source": [
    "devices.info()"
   ]
  },
  {
   "cell_type": "markdown",
   "id": "2a38e1b4-85b6-4596-a573-62f11500bb34",
   "metadata": {},
   "source": [
    "### Processes"
   ]
  },
  {
   "cell_type": "code",
   "execution_count": 17,
   "id": "addb7006-0ade-4adb-b31f-cef4237f26db",
   "metadata": {},
   "outputs": [
    {
     "data": {
      "text/html": [
       "<div>\n",
       "<style scoped>\n",
       "    .dataframe tbody tr th:only-of-type {\n",
       "        vertical-align: middle;\n",
       "    }\n",
       "\n",
       "    .dataframe tbody tr th {\n",
       "        vertical-align: top;\n",
       "    }\n",
       "\n",
       "    .dataframe thead th {\n",
       "        text-align: right;\n",
       "    }\n",
       "</style>\n",
       "<table border=\"1\" class=\"dataframe\">\n",
       "  <thead>\n",
       "    <tr style=\"text-align: right;\">\n",
       "      <th></th>\n",
       "      <th>ts</th>\n",
       "      <th>imei</th>\n",
       "      <th>mwra</th>\n",
       "      <th>p.android.gm</th>\n",
       "      <th>p.android.externalstorage</th>\n",
       "      <th>p.android.documentsui</th>\n",
       "      <th>p.system</th>\n",
       "      <th>p.android.settings</th>\n",
       "      <th>p.android.packageinstaller</th>\n",
       "      <th>p.android.chrome</th>\n",
       "      <th>...</th>\n",
       "      <th>p.dogalize</th>\n",
       "      <th>p.inputmethod.latin</th>\n",
       "      <th>p.simulator</th>\n",
       "      <th>p.android.gms</th>\n",
       "      <th>p.android.vending</th>\n",
       "      <th>p.katana</th>\n",
       "      <th>p.process.gapps</th>\n",
       "      <th>p.google</th>\n",
       "      <th>p.olauncher</th>\n",
       "      <th>p.browser.provider</th>\n",
       "    </tr>\n",
       "  </thead>\n",
       "  <tbody>\n",
       "    <tr>\n",
       "      <th>0</th>\n",
       "      <td>2018-05-05 10:00:00</td>\n",
       "      <td>3590433799317661966</td>\n",
       "      <td>1.0</td>\n",
       "      <td>13.08147</td>\n",
       "      <td>6.26446</td>\n",
       "      <td>7.97092</td>\n",
       "      <td>11.24427</td>\n",
       "      <td>11.08966</td>\n",
       "      <td>8.23662</td>\n",
       "      <td>11.58103</td>\n",
       "      <td>...</td>\n",
       "      <td>42.19751</td>\n",
       "      <td>79.40836</td>\n",
       "      <td>45.40991</td>\n",
       "      <td>87.15437</td>\n",
       "      <td>51.41012</td>\n",
       "      <td>69.25298</td>\n",
       "      <td>20.06545</td>\n",
       "      <td>13.62688</td>\n",
       "      <td>21.52231</td>\n",
       "      <td>84.08213</td>\n",
       "    </tr>\n",
       "    <tr>\n",
       "      <th>1</th>\n",
       "      <td>2018-05-05 10:01:00</td>\n",
       "      <td>3590433799317661073</td>\n",
       "      <td>1.0</td>\n",
       "      <td>9.52577</td>\n",
       "      <td>13.15723</td>\n",
       "      <td>10.12613</td>\n",
       "      <td>14.37023</td>\n",
       "      <td>14.36103</td>\n",
       "      <td>5.40400</td>\n",
       "      <td>7.72424</td>\n",
       "      <td>...</td>\n",
       "      <td>53.72498</td>\n",
       "      <td>39.27139</td>\n",
       "      <td>13.21933</td>\n",
       "      <td>74.91757</td>\n",
       "      <td>30.24281</td>\n",
       "      <td>53.84815</td>\n",
       "      <td>21.26466</td>\n",
       "      <td>7.85091</td>\n",
       "      <td>1.76933</td>\n",
       "      <td>40.47904</td>\n",
       "    </tr>\n",
       "    <tr>\n",
       "      <th>2</th>\n",
       "      <td>2018-05-05 10:02:00</td>\n",
       "      <td>359043379931766445</td>\n",
       "      <td>0.0</td>\n",
       "      <td>11.23775</td>\n",
       "      <td>13.43689</td>\n",
       "      <td>12.58645</td>\n",
       "      <td>7.63430</td>\n",
       "      <td>12.54228</td>\n",
       "      <td>12.04773</td>\n",
       "      <td>7.86555</td>\n",
       "      <td>...</td>\n",
       "      <td>43.77214</td>\n",
       "      <td>36.49072</td>\n",
       "      <td>86.97079</td>\n",
       "      <td>96.17420</td>\n",
       "      <td>7.71312</td>\n",
       "      <td>78.90782</td>\n",
       "      <td>8.32312</td>\n",
       "      <td>41.12966</td>\n",
       "      <td>75.38385</td>\n",
       "      <td>68.61776</td>\n",
       "    </tr>\n",
       "    <tr>\n",
       "      <th>3</th>\n",
       "      <td>2018-05-05 10:03:00</td>\n",
       "      <td>3590433799317662014</td>\n",
       "      <td>0.0</td>\n",
       "      <td>6.02527</td>\n",
       "      <td>11.05170</td>\n",
       "      <td>12.42098</td>\n",
       "      <td>16.98137</td>\n",
       "      <td>11.35344</td>\n",
       "      <td>11.37062</td>\n",
       "      <td>10.67391</td>\n",
       "      <td>...</td>\n",
       "      <td>55.74452</td>\n",
       "      <td>48.78629</td>\n",
       "      <td>9.34253</td>\n",
       "      <td>63.25140</td>\n",
       "      <td>61.82840</td>\n",
       "      <td>43.90015</td>\n",
       "      <td>83.45260</td>\n",
       "      <td>61.63458</td>\n",
       "      <td>13.99080</td>\n",
       "      <td>62.90951</td>\n",
       "    </tr>\n",
       "    <tr>\n",
       "      <th>4</th>\n",
       "      <td>2018-05-05 10:04:00</td>\n",
       "      <td>3590433799317661651</td>\n",
       "      <td>0.0</td>\n",
       "      <td>4.97925</td>\n",
       "      <td>11.86770</td>\n",
       "      <td>10.20366</td>\n",
       "      <td>15.33645</td>\n",
       "      <td>11.64182</td>\n",
       "      <td>12.93403</td>\n",
       "      <td>10.25430</td>\n",
       "      <td>...</td>\n",
       "      <td>17.59833</td>\n",
       "      <td>49.69782</td>\n",
       "      <td>7.07021</td>\n",
       "      <td>73.27845</td>\n",
       "      <td>46.34725</td>\n",
       "      <td>91.91502</td>\n",
       "      <td>19.71363</td>\n",
       "      <td>12.49803</td>\n",
       "      <td>80.71499</td>\n",
       "      <td>3.93994</td>\n",
       "    </tr>\n",
       "  </tbody>\n",
       "</table>\n",
       "<p>5 rows × 23 columns</p>\n",
       "</div>"
      ],
      "text/plain": [
       "                    ts                 imei  mwra  p.android.gm  \\\n",
       "0  2018-05-05 10:00:00  3590433799317661966   1.0      13.08147   \n",
       "1  2018-05-05 10:01:00  3590433799317661073   1.0       9.52577   \n",
       "2  2018-05-05 10:02:00   359043379931766445   0.0      11.23775   \n",
       "3  2018-05-05 10:03:00  3590433799317662014   0.0       6.02527   \n",
       "4  2018-05-05 10:04:00  3590433799317661651   0.0       4.97925   \n",
       "\n",
       "   p.android.externalstorage  p.android.documentsui  p.system  \\\n",
       "0                    6.26446                7.97092  11.24427   \n",
       "1                   13.15723               10.12613  14.37023   \n",
       "2                   13.43689               12.58645   7.63430   \n",
       "3                   11.05170               12.42098  16.98137   \n",
       "4                   11.86770               10.20366  15.33645   \n",
       "\n",
       "   p.android.settings  p.android.packageinstaller  p.android.chrome  ...  \\\n",
       "0            11.08966                     8.23662          11.58103  ...   \n",
       "1            14.36103                     5.40400           7.72424  ...   \n",
       "2            12.54228                    12.04773           7.86555  ...   \n",
       "3            11.35344                    11.37062          10.67391  ...   \n",
       "4            11.64182                    12.93403          10.25430  ...   \n",
       "\n",
       "   p.dogalize  p.inputmethod.latin  p.simulator  p.android.gms  \\\n",
       "0    42.19751             79.40836     45.40991       87.15437   \n",
       "1    53.72498             39.27139     13.21933       74.91757   \n",
       "2    43.77214             36.49072     86.97079       96.17420   \n",
       "3    55.74452             48.78629      9.34253       63.25140   \n",
       "4    17.59833             49.69782      7.07021       73.27845   \n",
       "\n",
       "   p.android.vending  p.katana  p.process.gapps  p.google  p.olauncher  \\\n",
       "0           51.41012  69.25298         20.06545  13.62688     21.52231   \n",
       "1           30.24281  53.84815         21.26466   7.85091      1.76933   \n",
       "2            7.71312  78.90782          8.32312  41.12966     75.38385   \n",
       "3           61.82840  43.90015         83.45260  61.63458     13.99080   \n",
       "4           46.34725  91.91502         19.71363  12.49803     80.71499   \n",
       "\n",
       "   p.browser.provider  \n",
       "0            84.08213  \n",
       "1            40.47904  \n",
       "2            68.61776  \n",
       "3            62.90951  \n",
       "4             3.93994  \n",
       "\n",
       "[5 rows x 23 columns]"
      ]
     },
     "execution_count": 17,
     "metadata": {},
     "output_type": "execute_result"
    }
   ],
   "source": [
    "processes.head()"
   ]
  },
  {
   "cell_type": "code",
   "execution_count": 18,
   "id": "b635cd0b-363b-4183-92b1-2047654a5508",
   "metadata": {},
   "outputs": [
    {
     "data": {
      "text/plain": [
       "(15082, 23)"
      ]
     },
     "execution_count": 18,
     "metadata": {},
     "output_type": "execute_result"
    }
   ],
   "source": [
    "processes.shape"
   ]
  },
  {
   "cell_type": "code",
   "execution_count": 19,
   "id": "f904ff00-77e4-418f-b168-6e2ae6226baf",
   "metadata": {},
   "outputs": [
    {
     "data": {
      "text/plain": [
       "Index(['ts', 'imei', 'mwra', 'p.android.gm', 'p.android.externalstorage',\n",
       "       'p.android.documentsui', 'p.system', 'p.android.settings',\n",
       "       'p.android.packageinstaller', 'p.android.chrome',\n",
       "       'p.android.defcontainer', 'p.gms.persistent', 'p.notifier',\n",
       "       'p.dogalize', 'p.inputmethod.latin', 'p.simulator', 'p.android.gms',\n",
       "       'p.android.vending', 'p.katana', 'p.process.gapps', 'p.google',\n",
       "       'p.olauncher', 'p.browser.provider'],\n",
       "      dtype='object')"
      ]
     },
     "execution_count": 19,
     "metadata": {},
     "output_type": "execute_result"
    }
   ],
   "source": [
    "processes.columns"
   ]
  },
  {
   "cell_type": "code",
   "execution_count": 20,
   "id": "7141c051-8f5c-4b1c-bf04-5900eccfd0c8",
   "metadata": {},
   "outputs": [
    {
     "data": {
      "text/plain": [
       "ts                             object\n",
       "imei                            int64\n",
       "mwra                          float64\n",
       "p.android.gm                  float64\n",
       "p.android.externalstorage     float64\n",
       "p.android.documentsui         float64\n",
       "p.system                      float64\n",
       "p.android.settings            float64\n",
       "p.android.packageinstaller    float64\n",
       "p.android.chrome              float64\n",
       "p.android.defcontainer        float64\n",
       "p.gms.persistent              float64\n",
       "p.notifier                    float64\n",
       "p.dogalize                    float64\n",
       "p.inputmethod.latin           float64\n",
       "p.simulator                   float64\n",
       "p.android.gms                 float64\n",
       "p.android.vending             float64\n",
       "p.katana                      float64\n",
       "p.process.gapps               float64\n",
       "p.google                      float64\n",
       "p.olauncher                   float64\n",
       "p.browser.provider            float64\n",
       "dtype: object"
      ]
     },
     "execution_count": 20,
     "metadata": {},
     "output_type": "execute_result"
    }
   ],
   "source": [
    "processes.dtypes"
   ]
  },
  {
   "cell_type": "code",
   "execution_count": 21,
   "id": "046ffaf0-d7eb-4803-a905-71fbcf86f40a",
   "metadata": {},
   "outputs": [
    {
     "data": {
      "text/plain": [
       "ts                            0\n",
       "imei                          0\n",
       "mwra                          0\n",
       "p.android.gm                  0\n",
       "p.android.externalstorage     0\n",
       "p.android.documentsui         0\n",
       "p.system                      0\n",
       "p.android.settings            0\n",
       "p.android.packageinstaller    0\n",
       "p.android.chrome              0\n",
       "p.android.defcontainer        0\n",
       "p.gms.persistent              0\n",
       "p.notifier                    0\n",
       "p.dogalize                    0\n",
       "p.inputmethod.latin           0\n",
       "p.simulator                   0\n",
       "p.android.gms                 0\n",
       "p.android.vending             0\n",
       "p.katana                      0\n",
       "p.process.gapps               0\n",
       "p.google                      0\n",
       "p.olauncher                   0\n",
       "p.browser.provider            0\n",
       "dtype: int64"
      ]
     },
     "execution_count": 21,
     "metadata": {},
     "output_type": "execute_result"
    }
   ],
   "source": [
    "processes.isnull().sum()"
   ]
  },
  {
   "cell_type": "code",
   "execution_count": 22,
   "id": "40ce964f-92f9-417a-bf3c-34d5df5f776e",
   "metadata": {},
   "outputs": [
    {
     "data": {
      "text/plain": [
       "0"
      ]
     },
     "execution_count": 22,
     "metadata": {},
     "output_type": "execute_result"
    }
   ],
   "source": [
    "processes.shape[0] - processes.dropna().shape[0]"
   ]
  },
  {
   "cell_type": "code",
   "execution_count": 23,
   "id": "6d51bb2d-3d54-4401-8dcc-ef5000d0b3e8",
   "metadata": {},
   "outputs": [
    {
     "name": "stdout",
     "output_type": "stream",
     "text": [
      "<class 'pandas.core.frame.DataFrame'>\n",
      "RangeIndex: 15082 entries, 0 to 15081\n",
      "Data columns (total 23 columns):\n",
      " #   Column                      Non-Null Count  Dtype  \n",
      "---  ------                      --------------  -----  \n",
      " 0   ts                          15082 non-null  object \n",
      " 1   imei                        15082 non-null  int64  \n",
      " 2   mwra                        15082 non-null  float64\n",
      " 3   p.android.gm                15082 non-null  float64\n",
      " 4   p.android.externalstorage   15082 non-null  float64\n",
      " 5   p.android.documentsui       15082 non-null  float64\n",
      " 6   p.system                    15082 non-null  float64\n",
      " 7   p.android.settings          15082 non-null  float64\n",
      " 8   p.android.packageinstaller  15082 non-null  float64\n",
      " 9   p.android.chrome            15082 non-null  float64\n",
      " 10  p.android.defcontainer      15082 non-null  float64\n",
      " 11  p.gms.persistent            15082 non-null  float64\n",
      " 12  p.notifier                  15082 non-null  float64\n",
      " 13  p.dogalize                  15082 non-null  float64\n",
      " 14  p.inputmethod.latin         15082 non-null  float64\n",
      " 15  p.simulator                 15082 non-null  float64\n",
      " 16  p.android.gms               15082 non-null  float64\n",
      " 17  p.android.vending           15082 non-null  float64\n",
      " 18  p.katana                    15082 non-null  float64\n",
      " 19  p.process.gapps             15082 non-null  float64\n",
      " 20  p.google                    15082 non-null  float64\n",
      " 21  p.olauncher                 15082 non-null  float64\n",
      " 22  p.browser.provider          15082 non-null  float64\n",
      "dtypes: float64(21), int64(1), object(1)\n",
      "memory usage: 2.6+ MB\n"
     ]
    }
   ],
   "source": [
    "processes.info()"
   ]
  },
  {
   "cell_type": "markdown",
   "id": "8e9ad084-4ebb-45e8-8086-af7417d09d56",
   "metadata": {},
   "source": [
    "### Profiles"
   ]
  },
  {
   "cell_type": "code",
   "execution_count": 24,
   "id": "c089c6aa-90ac-45f8-b0cc-102b24cbb374",
   "metadata": {},
   "outputs": [
    {
     "data": {
      "text/html": [
       "<div>\n",
       "<style scoped>\n",
       "    .dataframe tbody tr th:only-of-type {\n",
       "        vertical-align: middle;\n",
       "    }\n",
       "\n",
       "    .dataframe tbody tr th {\n",
       "        vertical-align: top;\n",
       "    }\n",
       "\n",
       "    .dataframe thead th {\n",
       "        text-align: right;\n",
       "    }\n",
       "</style>\n",
       "<table border=\"1\" class=\"dataframe\">\n",
       "  <thead>\n",
       "    <tr style=\"text-align: right;\">\n",
       "      <th></th>\n",
       "      <th>birthdate</th>\n",
       "      <th>user_id</th>\n",
       "      <th>registration</th>\n",
       "      <th>company</th>\n",
       "      <th>job</th>\n",
       "      <th>mail</th>\n",
       "      <th>residence</th>\n",
       "      <th>imei</th>\n",
       "      <th>current_location</th>\n",
       "      <th>username</th>\n",
       "      <th>ssn</th>\n",
       "      <th>name</th>\n",
       "    </tr>\n",
       "  </thead>\n",
       "  <tbody>\n",
       "    <tr>\n",
       "      <th>0</th>\n",
       "      <td>NaN</td>\n",
       "      <td>847</td>\n",
       "      <td>2019/11/21</td>\n",
       "      <td>Mitchell-Solis</td>\n",
       "      <td>NaN</td>\n",
       "      <td>timothytaylor@yahoo.com</td>\n",
       "      <td>NaN</td>\n",
       "      <td>8630330696303481933</td>\n",
       "      <td>(Decimal('-20.2706735'), Decimal('157.457919'))</td>\n",
       "      <td>aaron53</td>\n",
       "      <td>616-47-8424</td>\n",
       "      <td>Michael Wilson</td>\n",
       "    </tr>\n",
       "    <tr>\n",
       "      <th>1</th>\n",
       "      <td>NaN</td>\n",
       "      <td>1161</td>\n",
       "      <td>2022-11-08</td>\n",
       "      <td>Gonzales, Ingram and Sanchez</td>\n",
       "      <td>Geophysical data processor</td>\n",
       "      <td>gonzalezmichael@gmail.com</td>\n",
       "      <td>NaN</td>\n",
       "      <td>8630330696303481099</td>\n",
       "      <td>(Decimal('-53.811515'), Decimal('24.770391'))</td>\n",
       "      <td>nicole50</td>\n",
       "      <td>537-31-1859</td>\n",
       "      <td>James Long</td>\n",
       "    </tr>\n",
       "    <tr>\n",
       "      <th>2</th>\n",
       "      <td>1940-10-02</td>\n",
       "      <td>1255</td>\n",
       "      <td>06/04/2018, 00:00:00</td>\n",
       "      <td>Rowland LLC</td>\n",
       "      <td>NaN</td>\n",
       "      <td>sarahgreene@yahoo.com</td>\n",
       "      <td>NaN</td>\n",
       "      <td>3590433799317661909</td>\n",
       "      <td>(Decimal('79.3383185'), Decimal('19.887697'))</td>\n",
       "      <td>amber66</td>\n",
       "      <td>427-45-3074</td>\n",
       "      <td>Keith Donovan</td>\n",
       "    </tr>\n",
       "    <tr>\n",
       "      <th>3</th>\n",
       "      <td>NaN</td>\n",
       "      <td>2069</td>\n",
       "      <td>2021-01-19</td>\n",
       "      <td>Pearson PLC</td>\n",
       "      <td>NaN</td>\n",
       "      <td>destinyholland@gmail.com</td>\n",
       "      <td>NaN</td>\n",
       "      <td>3590433799317661008</td>\n",
       "      <td>(Decimal('-39.788237'), Decimal('115.687134'))</td>\n",
       "      <td>dana32</td>\n",
       "      <td>286-31-2534</td>\n",
       "      <td>Stephanie Bell</td>\n",
       "    </tr>\n",
       "    <tr>\n",
       "      <th>4</th>\n",
       "      <td>NaN</td>\n",
       "      <td>1648</td>\n",
       "      <td>21 Jan 2022</td>\n",
       "      <td>English LLC</td>\n",
       "      <td>NaN</td>\n",
       "      <td>thomas78@hotmail.com</td>\n",
       "      <td>71251 Conway Divide Suite 608\\nNorth Zachary, ...</td>\n",
       "      <td>359043379931766775</td>\n",
       "      <td>(Decimal('16.925840'), Decimal('-82.703519'))</td>\n",
       "      <td>cbutler</td>\n",
       "      <td>252-18-1389</td>\n",
       "      <td>Randy Rodriguez</td>\n",
       "    </tr>\n",
       "  </tbody>\n",
       "</table>\n",
       "</div>"
      ],
      "text/plain": [
       "    birthdate  user_id          registration                       company  \\\n",
       "0         NaN      847            2019/11/21                Mitchell-Solis   \n",
       "1         NaN     1161            2022-11-08  Gonzales, Ingram and Sanchez   \n",
       "2  1940-10-02     1255  06/04/2018, 00:00:00                   Rowland LLC   \n",
       "3         NaN     2069            2021-01-19                   Pearson PLC   \n",
       "4         NaN     1648           21 Jan 2022                   English LLC   \n",
       "\n",
       "                          job                       mail  \\\n",
       "0                         NaN    timothytaylor@yahoo.com   \n",
       "1  Geophysical data processor  gonzalezmichael@gmail.com   \n",
       "2                         NaN      sarahgreene@yahoo.com   \n",
       "3                         NaN   destinyholland@gmail.com   \n",
       "4                         NaN       thomas78@hotmail.com   \n",
       "\n",
       "                                           residence                 imei  \\\n",
       "0                                                NaN  8630330696303481933   \n",
       "1                                                NaN  8630330696303481099   \n",
       "2                                                NaN  3590433799317661909   \n",
       "3                                                NaN  3590433799317661008   \n",
       "4  71251 Conway Divide Suite 608\\nNorth Zachary, ...   359043379931766775   \n",
       "\n",
       "                                  current_location  username          ssn  \\\n",
       "0  (Decimal('-20.2706735'), Decimal('157.457919'))   aaron53  616-47-8424   \n",
       "1    (Decimal('-53.811515'), Decimal('24.770391'))  nicole50  537-31-1859   \n",
       "2    (Decimal('79.3383185'), Decimal('19.887697'))   amber66  427-45-3074   \n",
       "3   (Decimal('-39.788237'), Decimal('115.687134'))    dana32  286-31-2534   \n",
       "4    (Decimal('16.925840'), Decimal('-82.703519'))   cbutler  252-18-1389   \n",
       "\n",
       "              name  \n",
       "0   Michael Wilson  \n",
       "1       James Long  \n",
       "2    Keith Donovan  \n",
       "3   Stephanie Bell  \n",
       "4  Randy Rodriguez  "
      ]
     },
     "execution_count": 24,
     "metadata": {},
     "output_type": "execute_result"
    }
   ],
   "source": [
    "profiles.head()"
   ]
  },
  {
   "cell_type": "code",
   "execution_count": 25,
   "id": "a03af5e4-0480-4477-b911-f67d3fb34d36",
   "metadata": {},
   "outputs": [
    {
     "data": {
      "text/plain": [
       "(2597, 12)"
      ]
     },
     "execution_count": 25,
     "metadata": {},
     "output_type": "execute_result"
    }
   ],
   "source": [
    "profiles.shape"
   ]
  },
  {
   "cell_type": "code",
   "execution_count": 26,
   "id": "93694639-9a37-4d75-b743-d5326f61cc92",
   "metadata": {},
   "outputs": [
    {
     "data": {
      "text/plain": [
       "Index(['birthdate', 'user_id', 'registration', 'company', 'job', 'mail',\n",
       "       'residence', 'imei', 'current_location', 'username', 'ssn', 'name'],\n",
       "      dtype='object')"
      ]
     },
     "execution_count": 26,
     "metadata": {},
     "output_type": "execute_result"
    }
   ],
   "source": [
    "profiles.columns"
   ]
  },
  {
   "cell_type": "code",
   "execution_count": 27,
   "id": "7b71e7c1-c852-435d-8fac-d81b722d83dc",
   "metadata": {},
   "outputs": [
    {
     "data": {
      "text/plain": [
       "birthdate           object\n",
       "user_id              int64\n",
       "registration        object\n",
       "company             object\n",
       "job                 object\n",
       "mail                object\n",
       "residence           object\n",
       "imei                 int64\n",
       "current_location    object\n",
       "username            object\n",
       "ssn                 object\n",
       "name                object\n",
       "dtype: object"
      ]
     },
     "execution_count": 27,
     "metadata": {},
     "output_type": "execute_result"
    }
   ],
   "source": [
    "profiles.dtypes"
   ]
  },
  {
   "cell_type": "code",
   "execution_count": 28,
   "id": "5049b932-37f7-4f27-b7c7-9ccc8585600f",
   "metadata": {},
   "outputs": [
    {
     "data": {
      "text/plain": [
       "birthdate           1169\n",
       "user_id                0\n",
       "registration           0\n",
       "company                0\n",
       "job                 1818\n",
       "mail                   0\n",
       "residence           1688\n",
       "imei                   0\n",
       "current_location     130\n",
       "username               0\n",
       "ssn                    0\n",
       "name                   0\n",
       "dtype: int64"
      ]
     },
     "execution_count": 28,
     "metadata": {},
     "output_type": "execute_result"
    }
   ],
   "source": [
    "profiles.isnull().sum()"
   ]
  },
  {
   "cell_type": "code",
   "execution_count": 29,
   "id": "5f1d3550-94f4-412f-bc81-0cda90c8d008",
   "metadata": {},
   "outputs": [
    {
     "data": {
      "text/plain": [
       "2463"
      ]
     },
     "execution_count": 29,
     "metadata": {},
     "output_type": "execute_result"
    }
   ],
   "source": [
    "profiles.shape[0] - profiles.dropna().shape[0]"
   ]
  },
  {
   "cell_type": "code",
   "execution_count": 30,
   "id": "59eb70dc-6e30-4034-baab-05173fa6204a",
   "metadata": {},
   "outputs": [
    {
     "name": "stdout",
     "output_type": "stream",
     "text": [
      "<class 'pandas.core.frame.DataFrame'>\n",
      "RangeIndex: 2597 entries, 0 to 2596\n",
      "Data columns (total 12 columns):\n",
      " #   Column            Non-Null Count  Dtype \n",
      "---  ------            --------------  ----- \n",
      " 0   birthdate         1428 non-null   object\n",
      " 1   user_id           2597 non-null   int64 \n",
      " 2   registration      2597 non-null   object\n",
      " 3   company           2597 non-null   object\n",
      " 4   job               779 non-null    object\n",
      " 5   mail              2597 non-null   object\n",
      " 6   residence         909 non-null    object\n",
      " 7   imei              2597 non-null   int64 \n",
      " 8   current_location  2467 non-null   object\n",
      " 9   username          2597 non-null   object\n",
      " 10  ssn               2597 non-null   object\n",
      " 11  name              2597 non-null   object\n",
      "dtypes: int64(2), object(10)\n",
      "memory usage: 243.6+ KB\n"
     ]
    }
   ],
   "source": [
    "profiles.info()"
   ]
  },
  {
   "cell_type": "markdown",
   "id": "21c2be24-68c0-46d2-bf04-a0a06341a936",
   "metadata": {},
   "source": [
    "## B"
   ]
  },
  {
   "cell_type": "markdown",
   "id": "fd66ee94-f0e7-47f0-89b1-ba7c77316dd3",
   "metadata": {},
   "source": [
    "Analýza jednotlivých atribútov: pre zvolené významné atribúty (min 10) analyzujte\n",
    "ich distribúcie a základné deskriptívne štatistiky."
   ]
  },
  {
   "cell_type": "code",
   "execution_count": 31,
   "id": "d4b5ce56-80fc-4cfc-9ed2-949f83df58df",
   "metadata": {},
   "outputs": [
    {
     "data": {
      "text/html": [
       "<div>\n",
       "<style scoped>\n",
       "    .dataframe tbody tr th:only-of-type {\n",
       "        vertical-align: middle;\n",
       "    }\n",
       "\n",
       "    .dataframe tbody tr th {\n",
       "        vertical-align: top;\n",
       "    }\n",
       "\n",
       "    .dataframe thead th {\n",
       "        text-align: right;\n",
       "    }\n",
       "</style>\n",
       "<table border=\"1\" class=\"dataframe\">\n",
       "  <thead>\n",
       "    <tr style=\"text-align: right;\">\n",
       "      <th></th>\n",
       "      <th>mwra</th>\n",
       "      <th>c.dogalize</th>\n",
       "      <th>c.android.gm</th>\n",
       "      <th>c.android.chrome</th>\n",
       "      <th>c.android.youtube</th>\n",
       "      <th>c.katana</th>\n",
       "      <th>c.updateassist</th>\n",
       "      <th>c.UCMobile.x86</th>\n",
       "      <th>c.android.vending</th>\n",
       "      <th>c.raider</th>\n",
       "      <th>c.UCMobile.intl</th>\n",
       "    </tr>\n",
       "  </thead>\n",
       "  <tbody>\n",
       "    <tr>\n",
       "      <th>count</th>\n",
       "      <td>15082.000000</td>\n",
       "      <td>15082.000000</td>\n",
       "      <td>15082.000000</td>\n",
       "      <td>15082.000000</td>\n",
       "      <td>15082.000000</td>\n",
       "      <td>15082.000000</td>\n",
       "      <td>15082.000000</td>\n",
       "      <td>15082.000000</td>\n",
       "      <td>15082.000000</td>\n",
       "      <td>15082.000000</td>\n",
       "      <td>15082.000000</td>\n",
       "    </tr>\n",
       "    <tr>\n",
       "      <th>mean</th>\n",
       "      <td>0.628166</td>\n",
       "      <td>12.780511</td>\n",
       "      <td>10.307836</td>\n",
       "      <td>11.493811</td>\n",
       "      <td>10.332468</td>\n",
       "      <td>10.397852</td>\n",
       "      <td>51.241494</td>\n",
       "      <td>54.158555</td>\n",
       "      <td>50.000631</td>\n",
       "      <td>50.287501</td>\n",
       "      <td>49.901177</td>\n",
       "    </tr>\n",
       "    <tr>\n",
       "      <th>std</th>\n",
       "      <td>0.483310</td>\n",
       "      <td>2.108549</td>\n",
       "      <td>2.741483</td>\n",
       "      <td>2.633958</td>\n",
       "      <td>2.565897</td>\n",
       "      <td>2.504601</td>\n",
       "      <td>12.325118</td>\n",
       "      <td>12.670826</td>\n",
       "      <td>28.964179</td>\n",
       "      <td>28.817286</td>\n",
       "      <td>29.007810</td>\n",
       "    </tr>\n",
       "    <tr>\n",
       "      <th>min</th>\n",
       "      <td>0.000000</td>\n",
       "      <td>3.052220</td>\n",
       "      <td>0.000000</td>\n",
       "      <td>0.540450</td>\n",
       "      <td>2.671060</td>\n",
       "      <td>2.253590</td>\n",
       "      <td>0.000000</td>\n",
       "      <td>0.000000</td>\n",
       "      <td>0.000000</td>\n",
       "      <td>0.000000</td>\n",
       "      <td>0.000000</td>\n",
       "    </tr>\n",
       "    <tr>\n",
       "      <th>25%</th>\n",
       "      <td>0.000000</td>\n",
       "      <td>11.387840</td>\n",
       "      <td>8.331292</td>\n",
       "      <td>9.633782</td>\n",
       "      <td>8.510405</td>\n",
       "      <td>8.600627</td>\n",
       "      <td>42.940358</td>\n",
       "      <td>45.853808</td>\n",
       "      <td>24.886323</td>\n",
       "      <td>25.568478</td>\n",
       "      <td>24.644825</td>\n",
       "    </tr>\n",
       "    <tr>\n",
       "      <th>50%</th>\n",
       "      <td>1.000000</td>\n",
       "      <td>12.795875</td>\n",
       "      <td>10.257040</td>\n",
       "      <td>11.606770</td>\n",
       "      <td>10.069430</td>\n",
       "      <td>10.232250</td>\n",
       "      <td>51.238875</td>\n",
       "      <td>54.052655</td>\n",
       "      <td>50.263140</td>\n",
       "      <td>50.525375</td>\n",
       "      <td>49.971460</td>\n",
       "    </tr>\n",
       "    <tr>\n",
       "      <th>75%</th>\n",
       "      <td>1.000000</td>\n",
       "      <td>14.185975</td>\n",
       "      <td>12.285103</td>\n",
       "      <td>13.360772</td>\n",
       "      <td>12.027000</td>\n",
       "      <td>12.157758</td>\n",
       "      <td>59.676707</td>\n",
       "      <td>62.665258</td>\n",
       "      <td>74.912790</td>\n",
       "      <td>75.278347</td>\n",
       "      <td>75.380595</td>\n",
       "    </tr>\n",
       "    <tr>\n",
       "      <th>max</th>\n",
       "      <td>1.000000</td>\n",
       "      <td>21.448640</td>\n",
       "      <td>20.873920</td>\n",
       "      <td>21.980650</td>\n",
       "      <td>20.558500</td>\n",
       "      <td>21.827390</td>\n",
       "      <td>100.000000</td>\n",
       "      <td>100.000000</td>\n",
       "      <td>100.000000</td>\n",
       "      <td>100.000000</td>\n",
       "      <td>100.000000</td>\n",
       "    </tr>\n",
       "  </tbody>\n",
       "</table>\n",
       "</div>"
      ],
      "text/plain": [
       "               mwra    c.dogalize  c.android.gm  c.android.chrome  \\\n",
       "count  15082.000000  15082.000000  15082.000000      15082.000000   \n",
       "mean       0.628166     12.780511     10.307836         11.493811   \n",
       "std        0.483310      2.108549      2.741483          2.633958   \n",
       "min        0.000000      3.052220      0.000000          0.540450   \n",
       "25%        0.000000     11.387840      8.331292          9.633782   \n",
       "50%        1.000000     12.795875     10.257040         11.606770   \n",
       "75%        1.000000     14.185975     12.285103         13.360772   \n",
       "max        1.000000     21.448640     20.873920         21.980650   \n",
       "\n",
       "       c.android.youtube      c.katana  c.updateassist  c.UCMobile.x86  \\\n",
       "count       15082.000000  15082.000000    15082.000000    15082.000000   \n",
       "mean           10.332468     10.397852       51.241494       54.158555   \n",
       "std             2.565897      2.504601       12.325118       12.670826   \n",
       "min             2.671060      2.253590        0.000000        0.000000   \n",
       "25%             8.510405      8.600627       42.940358       45.853808   \n",
       "50%            10.069430     10.232250       51.238875       54.052655   \n",
       "75%            12.027000     12.157758       59.676707       62.665258   \n",
       "max            20.558500     21.827390      100.000000      100.000000   \n",
       "\n",
       "       c.android.vending      c.raider  c.UCMobile.intl  \n",
       "count       15082.000000  15082.000000     15082.000000  \n",
       "mean           50.000631     50.287501        49.901177  \n",
       "std            28.964179     28.817286        29.007810  \n",
       "min             0.000000      0.000000         0.000000  \n",
       "25%            24.886323     25.568478        24.644825  \n",
       "50%            50.263140     50.525375        49.971460  \n",
       "75%            74.912790     75.278347        75.380595  \n",
       "max           100.000000    100.000000       100.000000  "
      ]
     },
     "execution_count": 31,
     "metadata": {},
     "output_type": "execute_result"
    }
   ],
   "source": [
    "connections.describe().drop(columns=[\"imei\"])"
   ]
  },
  {
   "cell_type": "code",
   "execution_count": 32,
   "id": "a86075f7-dbac-4160-8707-7a9952551d8f",
   "metadata": {},
   "outputs": [
    {
     "data": {
      "image/png": "[encoded data removed]",
      "text/plain": [
       "<Figure size 1300x1000 with 12 Axes>"
      ]
     },
     "metadata": {},
     "output_type": "display_data"
    }
   ],
   "source": [
    "connections.hist(bins=10, figsize=(13, 10))\n",
    "plt.show()"
   ]
  },
  {
   "cell_type": "code",
   "execution_count": 33,
   "id": "7cd8a575-12ad-445f-9ac8-33187d2485e5",
   "metadata": {},
   "outputs": [
    {
     "data": {
      "text/html": [
       "<div>\n",
       "<style scoped>\n",
       "    .dataframe tbody tr th:only-of-type {\n",
       "        vertical-align: middle;\n",
       "    }\n",
       "\n",
       "    .dataframe tbody tr th {\n",
       "        vertical-align: top;\n",
       "    }\n",
       "\n",
       "    .dataframe thead th {\n",
       "        text-align: right;\n",
       "    }\n",
       "</style>\n",
       "<table border=\"1\" class=\"dataframe\">\n",
       "  <thead>\n",
       "    <tr style=\"text-align: right;\">\n",
       "      <th></th>\n",
       "      <th>latitude</th>\n",
       "      <th>longitude</th>\n",
       "    </tr>\n",
       "  </thead>\n",
       "  <tbody>\n",
       "    <tr>\n",
       "      <th>count</th>\n",
       "      <td>2903.000000</td>\n",
       "      <td>2903.000000</td>\n",
       "    </tr>\n",
       "    <tr>\n",
       "      <th>mean</th>\n",
       "      <td>29.183089</td>\n",
       "      <td>11.174573</td>\n",
       "    </tr>\n",
       "    <tr>\n",
       "      <th>std</th>\n",
       "      <td>23.069725</td>\n",
       "      <td>71.550287</td>\n",
       "    </tr>\n",
       "    <tr>\n",
       "      <th>min</th>\n",
       "      <td>-54.800000</td>\n",
       "      <td>-156.474320</td>\n",
       "    </tr>\n",
       "    <tr>\n",
       "      <th>25%</th>\n",
       "      <td>14.149890</td>\n",
       "      <td>-51.873890</td>\n",
       "    </tr>\n",
       "    <tr>\n",
       "      <th>50%</th>\n",
       "      <td>36.725440</td>\n",
       "      <td>9.370820</td>\n",
       "    </tr>\n",
       "    <tr>\n",
       "      <th>75%</th>\n",
       "      <td>46.238990</td>\n",
       "      <td>69.490150</td>\n",
       "    </tr>\n",
       "    <tr>\n",
       "      <th>max</th>\n",
       "      <td>68.798330</td>\n",
       "      <td>178.004170</td>\n",
       "    </tr>\n",
       "  </tbody>\n",
       "</table>\n",
       "</div>"
      ],
      "text/plain": [
       "          latitude    longitude\n",
       "count  2903.000000  2903.000000\n",
       "mean     29.183089    11.174573\n",
       "std      23.069725    71.550287\n",
       "min     -54.800000  -156.474320\n",
       "25%      14.149890   -51.873890\n",
       "50%      36.725440     9.370820\n",
       "75%      46.238990    69.490150\n",
       "max      68.798330   178.004170"
      ]
     },
     "execution_count": 33,
     "metadata": {},
     "output_type": "execute_result"
    }
   ],
   "source": [
    "devices.describe().drop(columns=[\"imei\"])"
   ]
  },
  {
   "cell_type": "code",
   "execution_count": 34,
   "id": "8895aff1-2f44-4692-86cd-def996d6ccef",
   "metadata": {},
   "outputs": [
    {
     "data": {
      "image/png": "[encoded data removed]",
      "text/plain": [
       "<Figure size 1000x500 with 4 Axes>"
      ]
     },
     "metadata": {},
     "output_type": "display_data"
    }
   ],
   "source": [
    "devices.hist(bins=10, figsize=(10, 5))\n",
    "plt.show()"
   ]
  },
  {
   "cell_type": "code",
   "execution_count": 35,
   "id": "e282a51f-a7bb-4e41-9da2-5d46ede94854",
   "metadata": {},
   "outputs": [
    {
     "data": {
      "text/html": [
       "<div>\n",
       "<style scoped>\n",
       "    .dataframe tbody tr th:only-of-type {\n",
       "        vertical-align: middle;\n",
       "    }\n",
       "\n",
       "    .dataframe tbody tr th {\n",
       "        vertical-align: top;\n",
       "    }\n",
       "\n",
       "    .dataframe thead th {\n",
       "        text-align: right;\n",
       "    }\n",
       "</style>\n",
       "<table border=\"1\" class=\"dataframe\">\n",
       "  <thead>\n",
       "    <tr style=\"text-align: right;\">\n",
       "      <th></th>\n",
       "      <th>mwra</th>\n",
       "      <th>p.android.gm</th>\n",
       "      <th>p.android.externalstorage</th>\n",
       "      <th>p.android.documentsui</th>\n",
       "      <th>p.system</th>\n",
       "      <th>p.android.settings</th>\n",
       "      <th>p.android.packageinstaller</th>\n",
       "      <th>p.android.chrome</th>\n",
       "      <th>p.android.defcontainer</th>\n",
       "      <th>p.gms.persistent</th>\n",
       "      <th>...</th>\n",
       "      <th>p.dogalize</th>\n",
       "      <th>p.inputmethod.latin</th>\n",
       "      <th>p.simulator</th>\n",
       "      <th>p.android.gms</th>\n",
       "      <th>p.android.vending</th>\n",
       "      <th>p.katana</th>\n",
       "      <th>p.process.gapps</th>\n",
       "      <th>p.google</th>\n",
       "      <th>p.olauncher</th>\n",
       "      <th>p.browser.provider</th>\n",
       "    </tr>\n",
       "  </thead>\n",
       "  <tbody>\n",
       "    <tr>\n",
       "      <th>count</th>\n",
       "      <td>15082.000000</td>\n",
       "      <td>15082.000000</td>\n",
       "      <td>15082.000000</td>\n",
       "      <td>15082.000000</td>\n",
       "      <td>15082.000000</td>\n",
       "      <td>15082.000000</td>\n",
       "      <td>15082.000000</td>\n",
       "      <td>15082.000000</td>\n",
       "      <td>15082.000000</td>\n",
       "      <td>15082.000000</td>\n",
       "      <td>...</td>\n",
       "      <td>15082.000000</td>\n",
       "      <td>15082.000000</td>\n",
       "      <td>15082.000000</td>\n",
       "      <td>15082.000000</td>\n",
       "      <td>15082.000000</td>\n",
       "      <td>15082.000000</td>\n",
       "      <td>15082.000000</td>\n",
       "      <td>15082.000000</td>\n",
       "      <td>15082.000000</td>\n",
       "      <td>15082.000000</td>\n",
       "    </tr>\n",
       "    <tr>\n",
       "      <th>mean</th>\n",
       "      <td>0.628166</td>\n",
       "      <td>10.959136</td>\n",
       "      <td>11.570061</td>\n",
       "      <td>11.565837</td>\n",
       "      <td>12.148415</td>\n",
       "      <td>10.981909</td>\n",
       "      <td>10.408449</td>\n",
       "      <td>9.791383</td>\n",
       "      <td>0.234095</td>\n",
       "      <td>52.846883</td>\n",
       "      <td>...</td>\n",
       "      <td>51.591727</td>\n",
       "      <td>49.450294</td>\n",
       "      <td>50.016261</td>\n",
       "      <td>49.682472</td>\n",
       "      <td>49.679929</td>\n",
       "      <td>50.227380</td>\n",
       "      <td>49.741881</td>\n",
       "      <td>49.824192</td>\n",
       "      <td>49.519106</td>\n",
       "      <td>49.823803</td>\n",
       "    </tr>\n",
       "    <tr>\n",
       "      <th>std</th>\n",
       "      <td>0.483310</td>\n",
       "      <td>2.610045</td>\n",
       "      <td>2.575290</td>\n",
       "      <td>2.506415</td>\n",
       "      <td>2.435983</td>\n",
       "      <td>2.628237</td>\n",
       "      <td>2.623675</td>\n",
       "      <td>2.529759</td>\n",
       "      <td>1.534500</td>\n",
       "      <td>13.815633</td>\n",
       "      <td>...</td>\n",
       "      <td>12.264143</td>\n",
       "      <td>28.950475</td>\n",
       "      <td>28.820482</td>\n",
       "      <td>28.967165</td>\n",
       "      <td>28.913058</td>\n",
       "      <td>28.839979</td>\n",
       "      <td>28.684441</td>\n",
       "      <td>28.942239</td>\n",
       "      <td>29.045372</td>\n",
       "      <td>28.859213</td>\n",
       "    </tr>\n",
       "    <tr>\n",
       "      <th>min</th>\n",
       "      <td>0.000000</td>\n",
       "      <td>2.180730</td>\n",
       "      <td>1.398780</td>\n",
       "      <td>1.030980</td>\n",
       "      <td>2.780780</td>\n",
       "      <td>1.681710</td>\n",
       "      <td>0.430540</td>\n",
       "      <td>0.745730</td>\n",
       "      <td>0.000000</td>\n",
       "      <td>0.000000</td>\n",
       "      <td>...</td>\n",
       "      <td>0.000000</td>\n",
       "      <td>0.000000</td>\n",
       "      <td>0.000000</td>\n",
       "      <td>0.000000</td>\n",
       "      <td>0.000000</td>\n",
       "      <td>0.000000</td>\n",
       "      <td>0.000000</td>\n",
       "      <td>0.000000</td>\n",
       "      <td>0.000000</td>\n",
       "      <td>0.000000</td>\n",
       "    </tr>\n",
       "    <tr>\n",
       "      <th>25%</th>\n",
       "      <td>0.000000</td>\n",
       "      <td>9.015752</td>\n",
       "      <td>9.828610</td>\n",
       "      <td>9.953453</td>\n",
       "      <td>10.568665</td>\n",
       "      <td>9.065975</td>\n",
       "      <td>8.537558</td>\n",
       "      <td>8.081835</td>\n",
       "      <td>0.003262</td>\n",
       "      <td>43.583827</td>\n",
       "      <td>...</td>\n",
       "      <td>43.357860</td>\n",
       "      <td>24.494882</td>\n",
       "      <td>25.010467</td>\n",
       "      <td>24.730168</td>\n",
       "      <td>24.392198</td>\n",
       "      <td>25.175237</td>\n",
       "      <td>25.331063</td>\n",
       "      <td>24.559190</td>\n",
       "      <td>24.064545</td>\n",
       "      <td>24.735183</td>\n",
       "    </tr>\n",
       "    <tr>\n",
       "      <th>50%</th>\n",
       "      <td>1.000000</td>\n",
       "      <td>10.975265</td>\n",
       "      <td>11.799585</td>\n",
       "      <td>11.835710</td>\n",
       "      <td>12.282485</td>\n",
       "      <td>11.031075</td>\n",
       "      <td>10.389345</td>\n",
       "      <td>9.636155</td>\n",
       "      <td>0.021880</td>\n",
       "      <td>52.689515</td>\n",
       "      <td>...</td>\n",
       "      <td>51.506090</td>\n",
       "      <td>49.220695</td>\n",
       "      <td>50.361785</td>\n",
       "      <td>49.252345</td>\n",
       "      <td>49.607365</td>\n",
       "      <td>50.016430</td>\n",
       "      <td>49.820090</td>\n",
       "      <td>49.456560</td>\n",
       "      <td>49.932410</td>\n",
       "      <td>49.566340</td>\n",
       "    </tr>\n",
       "    <tr>\n",
       "      <th>75%</th>\n",
       "      <td>1.000000</td>\n",
       "      <td>12.869393</td>\n",
       "      <td>13.427475</td>\n",
       "      <td>13.342425</td>\n",
       "      <td>13.879573</td>\n",
       "      <td>12.928720</td>\n",
       "      <td>12.322907</td>\n",
       "      <td>11.380020</td>\n",
       "      <td>0.110615</td>\n",
       "      <td>62.186797</td>\n",
       "      <td>...</td>\n",
       "      <td>59.789507</td>\n",
       "      <td>74.676802</td>\n",
       "      <td>74.976930</td>\n",
       "      <td>74.870220</td>\n",
       "      <td>74.767755</td>\n",
       "      <td>75.275445</td>\n",
       "      <td>74.053022</td>\n",
       "      <td>75.010913</td>\n",
       "      <td>74.685353</td>\n",
       "      <td>74.881215</td>\n",
       "    </tr>\n",
       "    <tr>\n",
       "      <th>max</th>\n",
       "      <td>1.000000</td>\n",
       "      <td>20.395280</td>\n",
       "      <td>20.235780</td>\n",
       "      <td>19.323180</td>\n",
       "      <td>20.565560</td>\n",
       "      <td>18.888400</td>\n",
       "      <td>19.930570</td>\n",
       "      <td>20.294680</td>\n",
       "      <td>100.000000</td>\n",
       "      <td>100.000000</td>\n",
       "      <td>...</td>\n",
       "      <td>100.000000</td>\n",
       "      <td>100.000000</td>\n",
       "      <td>100.000000</td>\n",
       "      <td>100.000000</td>\n",
       "      <td>100.000000</td>\n",
       "      <td>100.000000</td>\n",
       "      <td>100.000000</td>\n",
       "      <td>100.000000</td>\n",
       "      <td>100.000000</td>\n",
       "      <td>100.000000</td>\n",
       "    </tr>\n",
       "  </tbody>\n",
       "</table>\n",
       "<p>8 rows × 21 columns</p>\n",
       "</div>"
      ],
      "text/plain": [
       "               mwra  p.android.gm  p.android.externalstorage  \\\n",
       "count  15082.000000  15082.000000               15082.000000   \n",
       "mean       0.628166     10.959136                  11.570061   \n",
       "std        0.483310      2.610045                   2.575290   \n",
       "min        0.000000      2.180730                   1.398780   \n",
       "25%        0.000000      9.015752                   9.828610   \n",
       "50%        1.000000     10.975265                  11.799585   \n",
       "75%        1.000000     12.869393                  13.427475   \n",
       "max        1.000000     20.395280                  20.235780   \n",
       "\n",
       "       p.android.documentsui      p.system  p.android.settings  \\\n",
       "count           15082.000000  15082.000000        15082.000000   \n",
       "mean               11.565837     12.148415           10.981909   \n",
       "std                 2.506415      2.435983            2.628237   \n",
       "min                 1.030980      2.780780            1.681710   \n",
       "25%                 9.953453     10.568665            9.065975   \n",
       "50%                11.835710     12.282485           11.031075   \n",
       "75%                13.342425     13.879573           12.928720   \n",
       "max                19.323180     20.565560           18.888400   \n",
       "\n",
       "       p.android.packageinstaller  p.android.chrome  p.android.defcontainer  \\\n",
       "count                15082.000000      15082.000000            15082.000000   \n",
       "mean                    10.408449          9.791383                0.234095   \n",
       "std                      2.623675          2.529759                1.534500   \n",
       "min                      0.430540          0.745730                0.000000   \n",
       "25%                      8.537558          8.081835                0.003262   \n",
       "50%                     10.389345          9.636155                0.021880   \n",
       "75%                     12.322907         11.380020                0.110615   \n",
       "max                     19.930570         20.294680              100.000000   \n",
       "\n",
       "       p.gms.persistent  ...    p.dogalize  p.inputmethod.latin   p.simulator  \\\n",
       "count      15082.000000  ...  15082.000000         15082.000000  15082.000000   \n",
       "mean          52.846883  ...     51.591727            49.450294     50.016261   \n",
       "std           13.815633  ...     12.264143            28.950475     28.820482   \n",
       "min            0.000000  ...      0.000000             0.000000      0.000000   \n",
       "25%           43.583827  ...     43.357860            24.494882     25.010467   \n",
       "50%           52.689515  ...     51.506090            49.220695     50.361785   \n",
       "75%           62.186797  ...     59.789507            74.676802     74.976930   \n",
       "max          100.000000  ...    100.000000           100.000000    100.000000   \n",
       "\n",
       "       p.android.gms  p.android.vending      p.katana  p.process.gapps  \\\n",
       "count   15082.000000       15082.000000  15082.000000     15082.000000   \n",
       "mean       49.682472          49.679929     50.227380        49.741881   \n",
       "std        28.967165          28.913058     28.839979        28.684441   \n",
       "min         0.000000           0.000000      0.000000         0.000000   \n",
       "25%        24.730168          24.392198     25.175237        25.331063   \n",
       "50%        49.252345          49.607365     50.016430        49.820090   \n",
       "75%        74.870220          74.767755     75.275445        74.053022   \n",
       "max       100.000000         100.000000    100.000000       100.000000   \n",
       "\n",
       "           p.google   p.olauncher  p.browser.provider  \n",
       "count  15082.000000  15082.000000        15082.000000  \n",
       "mean      49.824192     49.519106           49.823803  \n",
       "std       28.942239     29.045372           28.859213  \n",
       "min        0.000000      0.000000            0.000000  \n",
       "25%       24.559190     24.064545           24.735183  \n",
       "50%       49.456560     49.932410           49.566340  \n",
       "75%       75.010913     74.685353           74.881215  \n",
       "max      100.000000    100.000000          100.000000  \n",
       "\n",
       "[8 rows x 21 columns]"
      ]
     },
     "execution_count": 35,
     "metadata": {},
     "output_type": "execute_result"
    }
   ],
   "source": [
    "processes.describe().drop(columns=[\"imei\"])"
   ]
  },
  {
   "cell_type": "code",
   "execution_count": 36,
   "id": "735e0800-97d5-4b20-a160-00d9b7923459",
   "metadata": {},
   "outputs": [
    {
     "data": {
      "image/png": "[encoded data removed]",
      "text/plain": [
       "<Figure size 1800x1300 with 25 Axes>"
      ]
     },
     "metadata": {},
     "output_type": "display_data"
    }
   ],
   "source": [
    "processes.hist(bins=10, figsize=(18, 13))\n",
    "plt.show()"
   ]
  },
  {
   "cell_type": "code",
   "execution_count": 37,
   "id": "14a3ce54-bcb6-4eeb-bcb8-8bcb231189b7",
   "metadata": {},
   "outputs": [
    {
     "data": {
      "text/html": [
       "<div>\n",
       "<style scoped>\n",
       "    .dataframe tbody tr th:only-of-type {\n",
       "        vertical-align: middle;\n",
       "    }\n",
       "\n",
       "    .dataframe tbody tr th {\n",
       "        vertical-align: top;\n",
       "    }\n",
       "\n",
       "    .dataframe thead th {\n",
       "        text-align: right;\n",
       "    }\n",
       "</style>\n",
       "<table border=\"1\" class=\"dataframe\">\n",
       "  <thead>\n",
       "    <tr style=\"text-align: right;\">\n",
       "      <th></th>\n",
       "      <th>user_id</th>\n",
       "      <th>imei</th>\n",
       "    </tr>\n",
       "  </thead>\n",
       "  <tbody>\n",
       "    <tr>\n",
       "      <th>count</th>\n",
       "      <td>2597.000000</td>\n",
       "      <td>2.597000e+03</td>\n",
       "    </tr>\n",
       "    <tr>\n",
       "      <th>mean</th>\n",
       "      <td>1313.889488</td>\n",
       "      <td>3.947500e+18</td>\n",
       "    </tr>\n",
       "    <tr>\n",
       "      <th>std</th>\n",
       "      <td>742.511867</td>\n",
       "      <td>3.403798e+18</td>\n",
       "    </tr>\n",
       "    <tr>\n",
       "      <th>min</th>\n",
       "      <td>1.000000</td>\n",
       "      <td>3.590434e+17</td>\n",
       "    </tr>\n",
       "    <tr>\n",
       "      <th>25%</th>\n",
       "      <td>676.000000</td>\n",
       "      <td>8.630331e+17</td>\n",
       "    </tr>\n",
       "    <tr>\n",
       "      <th>50%</th>\n",
       "      <td>1313.000000</td>\n",
       "      <td>3.590434e+18</td>\n",
       "    </tr>\n",
       "    <tr>\n",
       "      <th>75%</th>\n",
       "      <td>1958.000000</td>\n",
       "      <td>8.630331e+18</td>\n",
       "    </tr>\n",
       "    <tr>\n",
       "      <th>max</th>\n",
       "      <td>2593.000000</td>\n",
       "      <td>8.630331e+18</td>\n",
       "    </tr>\n",
       "  </tbody>\n",
       "</table>\n",
       "</div>"
      ],
      "text/plain": [
       "           user_id          imei\n",
       "count  2597.000000  2.597000e+03\n",
       "mean   1313.889488  3.947500e+18\n",
       "std     742.511867  3.403798e+18\n",
       "min       1.000000  3.590434e+17\n",
       "25%     676.000000  8.630331e+17\n",
       "50%    1313.000000  3.590434e+18\n",
       "75%    1958.000000  8.630331e+18\n",
       "max    2593.000000  8.630331e+18"
      ]
     },
     "execution_count": 37,
     "metadata": {},
     "output_type": "execute_result"
    }
   ],
   "source": [
    "# nepotrebné - nemá žiadnu výpovednú hodnotu\n",
    "profiles.describe()"
   ]
  },
  {
   "cell_type": "code",
   "execution_count": 38,
   "id": "d33479ad-b6b7-4565-90a1-0bacfc5d54c0",
   "metadata": {},
   "outputs": [
    {
     "data": {
      "image/png": "[encoded data removed]",
      "text/plain": [
       "<Figure size 1000x300 with 2 Axes>"
      ]
     },
     "metadata": {},
     "output_type": "display_data"
    }
   ],
   "source": [
    "profiles.hist(bins=10, figsize=(10, 3))\n",
    "plt.show()"
   ]
  },
  {
   "cell_type": "markdown",
   "id": "dca7cd3b-c068-491a-a251-4d977c454b29",
   "metadata": {},
   "source": [
    "## C"
   ]
  },
  {
   "cell_type": "markdown",
   "id": "e8809dbb-6f4a-4439-8597-5a90de1f26e0",
   "metadata": {},
   "source": [
    "## D"
   ]
  },
  {
   "cell_type": "markdown",
   "id": "82007735-8dc6-4eba-b25f-215dd0145923",
   "metadata": {},
   "source": [
    "## E"
   ]
  },
  {
   "cell_type": "markdown",
   "id": "bc673f5d-5bb5-45a9-a7de-9d9d6c062f80",
   "metadata": {},
   "source": [
    "# 1.2 Identifikácia problémov, integrácia a čistenie dát"
   ]
  },
  {
   "cell_type": "markdown",
   "id": "8adddf02-8a9c-4acd-a6ea-c0929204de11",
   "metadata": {},
   "source": [
    "## A"
   ]
  },
  {
   "cell_type": "markdown",
   "id": "519717c9-8bd2-47a8-849c-c566afb1cca9",
   "metadata": {},
   "source": [
    "## B"
   ]
  },
  {
   "cell_type": "markdown",
   "id": "8c21a8a4-187b-4149-aa74-33aaef8bcbe6",
   "metadata": {},
   "source": [
    "## C"
   ]
  },
  {
   "cell_type": "markdown",
   "id": "e80d5807-049f-4b69-9bde-ed721b7f788e",
   "metadata": {},
   "source": [
    "# 1.3 Formulácia a štatistické overenie hypotéz o dátach"
   ]
  },
  {
   "cell_type": "markdown",
   "id": "e1d173b2-a539-4a41-bb62-6030b80a1a0d",
   "metadata": {},
   "source": [
    "## A"
   ]
  },
  {
   "cell_type": "markdown",
   "id": "3d457e15-b6e1-4eaf-a8f8-b75ce6e6ae24",
   "metadata": {},
   "source": [
    "## B"
   ]
  },
  {
   "cell_type": "code",
   "execution_count": null,
   "id": "f882bc2f-fcfc-44d1-8512-56f3bcd87121",
   "metadata": {},
   "outputs": [],
   "source": []
  }
 ],
 "metadata": {
  "kernelspec": {
   "display_name": "Python 3 (ipykernel)",
   "language": "python",
   "name": "python3"
  },
  "language_info": {
   "codemirror_mode": {
    "name": "ipython",
    "version": 3
   },
   "file_extension": ".py",
   "mimetype": "text/x-python",
   "name": "python",
   "nbconvert_exporter": "python",
   "pygments_lexer": "ipython3",
   "version": "3.12.3"
  }
 },
 "nbformat": 4,
 "nbformat_minor": 5
}
